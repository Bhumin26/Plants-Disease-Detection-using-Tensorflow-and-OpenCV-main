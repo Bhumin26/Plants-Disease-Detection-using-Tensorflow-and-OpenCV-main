{
 "cells": [
  {
   "cell_type": "code",
   "execution_count": 1,
   "metadata": {
    "colab": {
     "base_uri": "https://localhost:8080/"
    },
    "executionInfo": {
     "elapsed": 39817,
     "status": "ok",
     "timestamp": 1604377203500,
     "user": {
      "displayName": "Vaibhav Wagaskar",
      "photoUrl": "",
      "userId": "18291676089604901220"
     },
     "user_tz": -330
    },
    "id": "cOC4A5LRP9T7",
    "outputId": "16c18a79-dddd-41ce-de48-ab43a150018e"
   },
   "outputs": [
    {
     "name": "stdout",
     "output_type": "stream",
     "text": [
      "Mounted at /content/gdrive\n"
     ]
    }
   ],
   "source": [
    "from google.colab import drive\n",
    "drive.mount('/content/gdrive')"
   ]
  },
  {
   "cell_type": "code",
   "execution_count": 2,
   "metadata": {
    "colab": {
     "base_uri": "https://localhost:8080/"
    },
    "executionInfo": {
     "elapsed": 2488,
     "status": "ok",
     "timestamp": 1604377208790,
     "user": {
      "displayName": "Vaibhav Wagaskar",
      "photoUrl": "",
      "userId": "18291676089604901220"
     },
     "user_tz": -330
    },
    "id": "9L3YFPe7P_X-",
    "outputId": "89c75363-20cd-4e43-decd-64428825b526"
   },
   "outputs": [
    {
     "name": "stdout",
     "output_type": "stream",
     "text": [
      "/content/gdrive/My Drive/Colab Notebooks\n"
     ]
    }
   ],
   "source": [
    "%cd '/content/gdrive/My Drive/Colab Notebooks'"
   ]
  },
  {
   "cell_type": "code",
   "execution_count": 3,
   "metadata": {
    "executionInfo": {
     "elapsed": 4760,
     "status": "ok",
     "timestamp": 1604377221887,
     "user": {
      "displayName": "Vaibhav Wagaskar",
      "photoUrl": "",
      "userId": "18291676089604901220"
     },
     "user_tz": -330
    },
    "id": "O4l8cHj6OmBL"
   },
   "outputs": [],
   "source": [
    "import keras\n",
    "import cv2\n",
    "import matplotlib.pyplot as plt\n"
   ]
  },
  {
   "cell_type": "code",
   "execution_count": 4,
   "metadata": {
    "executionInfo": {
     "elapsed": 5069,
     "status": "ok",
     "timestamp": 1604377229081,
     "user": {
      "displayName": "Vaibhav Wagaskar",
      "photoUrl": "",
      "userId": "18291676089604901220"
     },
     "user_tz": -330
    },
    "id": "k6zg21H6PX-I"
   },
   "outputs": [],
   "source": [
    "import numpy as np\n",
    "CATEGORIES = ['Pepper__bell___Bacterial_spot','Pepper__bell___healthy',\n",
    " 'Potato___Early_blight' ,'Potato___Late_blight', 'Potato___healthy',\n",
    " 'Tomato_Bacterial_spot' ,'Tomato_Early_blight', 'Tomato_Late_blight',\n",
    " 'Tomato_Leaf_Mold' ,'Tomato_Septoria_leaf_spot',\n",
    " 'Tomato_Spider_mites_Two_spotted_spider_mite' ,'Tomato__Target_Spot',\n",
    " 'Tomato__Tomato_YellowLeaf__Curl_Virus', 'Tomato__Tomato_mosaic_virus',\n",
    " 'Tomato_healthy']\n",
    "\n",
    "def image(path):\n",
    "    img = cv2.imread(path)\n",
    "    new_arr = cv2.resize(img,(100, 100))\n",
    "    new_arr = np.array(new_arr/255)\n",
    "    new_arr = new_arr.reshape(-1, 100, 100, 3)\n",
    "    return new_arr\n",
    "\n",
    "model = keras.models.load_model('my_model.h5')"
   ]
  },
  {
   "cell_type": "code",
   "execution_count": 6,
   "metadata": {
    "colab": {
     "base_uri": "https://localhost:8080/"
    },
    "executionInfo": {
     "elapsed": 2525,
     "status": "ok",
     "timestamp": 1604377280876,
     "user": {
      "displayName": "Vaibhav Wagaskar",
      "photoUrl": "",
      "userId": "18291676089604901220"
     },
     "user_tz": -330
    },
    "id": "uOqDo5QAPxZW",
    "outputId": "372b4cc2-38f5-4d89-b7cd-2425570bacfa"
   },
   "outputs": [
    {
     "name": "stdout",
     "output_type": "stream",
     "text": [
      "Potato___healthy\n"
     ]
    }
   ],
   "source": [
    "prediction = model.predict(image('PotatoHealthy.JPG'))\n",
    "\n",
    "print(CATEGORIES[prediction.argmax()])"
   ]
  },
  {
   "cell_type": "code",
   "execution_count": null,
   "metadata": {
    "id": "7TeTAJqsnybG"
   },
   "outputs": [],
   "source": []
  }
 ],
 "metadata": {
  "colab": {
   "authorship_tag": "ABX9TyM1bul4F7H3vV2b0pDkdJa0",
   "collapsed_sections": [],
   "name": "Predict.ipynb",
   "provenance": []
  },
  "kernelspec": {
   "display_name": "Python 3",
   "language": "python",
   "name": "python3"
  },
  "language_info": {
   "codemirror_mode": {
    "name": "ipython",
    "version": 3
   },
   "file_extension": ".py",
   "mimetype": "text/x-python",
   "name": "python",
   "nbconvert_exporter": "python",
   "pygments_lexer": "ipython3",
   "version": "3.8.3"
  }
 },
 "nbformat": 4,
 "nbformat_minor": 1
}
