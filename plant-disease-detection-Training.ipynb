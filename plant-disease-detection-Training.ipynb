{
 "cells": [
  {
   "cell_type": "markdown",
   "metadata": {
    "_uuid": "1020827e241ac87ffdf8e0f8762a6885bdc28fbc",
    "id": "YC_Gn5dH4ZQ_"
   },
   "source": [
    "Import neccessary packages"
   ]
  },
  {
   "cell_type": "code",
   "execution_count": 1,
   "metadata": {
    "colab": {
     "base_uri": "https://localhost:8080/"
    },
    "executionInfo": {
     "elapsed": 38362,
     "status": "ok",
     "timestamp": 1604373968842,
     "user": {
      "displayName": "Vaibhav Wagaskar",
      "photoUrl": "",
      "userId": "18291676089604901220"
     },
     "user_tz": -330
    },
    "id": "_cJS8ItU4dS9",
    "outputId": "8aac1627-a89c-471a-d6ed-d5d721115afc"
   },
   "outputs": [
    {
     "name": "stdout",
     "output_type": "stream",
     "text": [
      "Mounted at /content/gdrive\n"
     ]
    }
   ],
   "source": [
    "from google.colab import drive\n",
    "drive.mount('/content/gdrive')"
   ]
  },
  {
   "cell_type": "code",
   "execution_count": 2,
   "metadata": {
    "colab": {
     "base_uri": "https://localhost:8080/"
    },
    "executionInfo": {
     "elapsed": 2079,
     "status": "ok",
     "timestamp": 1604373975174,
     "user": {
      "displayName": "Vaibhav Wagaskar",
      "photoUrl": "",
      "userId": "18291676089604901220"
     },
     "user_tz": -330
    },
    "id": "JX5hLJ0O4usd",
    "outputId": "82432901-b633-4fbf-b781-a71892d33362"
   },
   "outputs": [
    {
     "name": "stdout",
     "output_type": "stream",
     "text": [
      "/content/gdrive/My Drive/Colab Notebooks\n"
     ]
    }
   ],
   "source": [
    "%cd '/content/gdrive/My Drive/Colab Notebooks'"
   ]
  },
  {
   "cell_type": "code",
   "execution_count": 3,
   "metadata": {
    "_cell_guid": "b1076dfc-b9ad-4769-8c92-a6c4dae69d19",
    "_uuid": "8f2839f25d086af736a60e9eeb907d3b93b6e0e5",
    "executionInfo": {
     "elapsed": 3963,
     "status": "ok",
     "timestamp": 1604373982787,
     "user": {
      "displayName": "Vaibhav Wagaskar",
      "photoUrl": "",
      "userId": "18291676089604901220"
     },
     "user_tz": -330
    },
    "id": "xCKnyjhD4ZRB"
   },
   "outputs": [],
   "source": [
    "import numpy as np\n",
    "import pickle\n",
    "import cv2\n",
    "from os import listdir\n",
    "from sklearn.preprocessing import LabelBinarizer\n",
    "from keras.models import Sequential\n",
    "from keras.layers.normalization import BatchNormalization\n",
    "from keras.layers.convolutional import Conv2D\n",
    "from keras.layers.convolutional import MaxPooling2D\n",
    "from keras.layers.core import Activation, Flatten, Dropout, Dense\n",
    "from keras import backend as K\n",
    "from keras.preprocessing.image import ImageDataGenerator\n",
    "from keras.optimizers import Adam\n",
    "from keras.preprocessing import image\n",
    "from keras.preprocessing.image import img_to_array\n",
    "from sklearn.preprocessing import MultiLabelBinarizer\n",
    "from sklearn.model_selection import train_test_split\n",
    "import matplotlib.pyplot as plt"
   ]
  },
  {
   "cell_type": "code",
   "execution_count": 18,
   "metadata": {
    "_uuid": "7c3354a78e21a1a62ad0c4689d0ab3238fb760d4",
    "executionInfo": {
     "elapsed": 1640,
     "status": "ok",
     "timestamp": 1604376680114,
     "user": {
      "displayName": "Vaibhav Wagaskar",
      "photoUrl": "",
      "userId": "18291676089604901220"
     },
     "user_tz": -330
    },
    "id": "V0hJUAWM4ZRQ"
   },
   "outputs": [],
   "source": [
    "EPOCHS = 35\n",
    "INIT_LR = 1e-3\n",
    "BS = 32\n",
    "default_image_size = tuple((100,100))\n",
    "image_size = 0\n",
    "directory_root = 'PlantVillage/'\n",
    "width=100\n",
    "height=100\n",
    "depth=3"
   ]
  },
  {
   "cell_type": "markdown",
   "metadata": {
    "_uuid": "2bf7ac0a0b805946f844a48e55d5281403e53f57",
    "id": "mEQmN0WS4ZRd"
   },
   "source": [
    "Function to convert images to array"
   ]
  },
  {
   "cell_type": "code",
   "execution_count": 5,
   "metadata": {
    "_uuid": "c9c3e60b13ace6c8f3e54336e12f9970fde438a3",
    "executionInfo": {
     "elapsed": 1737,
     "status": "ok",
     "timestamp": 1604374005150,
     "user": {
      "displayName": "Vaibhav Wagaskar",
      "photoUrl": "",
      "userId": "18291676089604901220"
     },
     "user_tz": -330
    },
    "id": "RcbRlrTH4ZRe"
   },
   "outputs": [],
   "source": [
    "def convert_image_to_array(image_dir):\n",
    "    try:\n",
    "        image = cv2.imread(image_dir)\n",
    "        if image is not None :\n",
    "            image = cv2.resize(image, default_image_size)   \n",
    "            return img_to_array(image)\n",
    "        else :\n",
    "            return np.array([])\n",
    "    except Exception as e:\n",
    "        print(f\"Error : {e}\")\n",
    "        return None"
   ]
  },
  {
   "cell_type": "markdown",
   "metadata": {
    "_uuid": "24d42b87fad54a9556f78357ce673cc5152468c1",
    "id": "ChLlyJ7z4ZRn"
   },
   "source": [
    "Fetch images from directory"
   ]
  },
  {
   "cell_type": "code",
   "execution_count": 6,
   "metadata": {
    "_uuid": "bb8d4c343314028f52ae3c3a840478a834a16c95",
    "colab": {
     "base_uri": "https://localhost:8080/"
    },
    "executionInfo": {
     "elapsed": 2276008,
     "status": "ok",
     "timestamp": 1604376284749,
     "user": {
      "displayName": "Vaibhav Wagaskar",
      "photoUrl": "",
      "userId": "18291676089604901220"
     },
     "user_tz": -330
    },
    "id": "hKYlYiCt4ZRp",
    "outputId": "5e62504e-b915-40be-cabb-200b6996252e"
   },
   "outputs": [
    {
     "name": "stdout",
     "output_type": "stream",
     "text": [
      "[INFO] Loading images ...\n",
      "[INFO] Processing Pepper__bell___Bacterial_spot ...\n",
      "[INFO] Processing Pepper__bell___healthy ...\n",
      "[INFO] Processing Potato___Early_blight ...\n",
      "[INFO] Processing Potato___Late_blight ...\n",
      "[INFO] Processing Potato___healthy ...\n",
      "[INFO] Processing Tomato_Bacterial_spot ...\n",
      "[INFO] Processing Tomato_Early_blight ...\n",
      "[INFO] Processing Tomato_Late_blight ...\n",
      "[INFO] Processing Tomato_Leaf_Mold ...\n",
      "[INFO] Processing Tomato_Septoria_leaf_spot ...\n",
      "[INFO] Processing Tomato_Spider_mites_Two_spotted_spider_mite ...\n",
      "[INFO] Processing Tomato__Target_Spot ...\n",
      "[INFO] Processing Tomato__Tomato_YellowLeaf__Curl_Virus ...\n",
      "[INFO] Processing Tomato__Tomato_mosaic_virus ...\n",
      "[INFO] Processing Tomato_healthy ...\n",
      "[INFO] Image loading completed\n"
     ]
    }
   ],
   "source": [
    "image_list, label_list = [], []\n",
    "try:\n",
    "    print(\"[INFO] Loading images ...\")\n",
    "    root_dir = listdir(directory_root)\n",
    "    for directory in root_dir :\n",
    "        # remove .DS_Store from list\n",
    "        if directory == \".DS_Store\" :\n",
    "            root_dir.remove(directory)\n",
    "\n",
    "    for plant_folder in root_dir :\n",
    "        plant_disease_folder_list = listdir(f\"{directory_root}/{plant_folder}\")\n",
    "        \n",
    "        for disease_folder in plant_disease_folder_list :\n",
    "            # remove .DS_Store from list\n",
    "            if disease_folder == \".DS_Store\" :\n",
    "                plant_disease_folder_list.remove(disease_folder)\n",
    "\n",
    "        for plant_disease_folder in plant_disease_folder_list:\n",
    "            print(f\"[INFO] Processing {plant_disease_folder} ...\")\n",
    "            plant_disease_image_list = listdir(f\"{directory_root}/{plant_folder}/{plant_disease_folder}/\")\n",
    "                \n",
    "            for single_plant_disease_image in plant_disease_image_list :\n",
    "                if single_plant_disease_image == \".DS_Store\" :\n",
    "                    plant_disease_image_list.remove(single_plant_disease_image)\n",
    "\n",
    "            for image in plant_disease_image_list[:250]:\n",
    "                image_directory = f\"{directory_root}/{plant_folder}/{plant_disease_folder}/{image}\"\n",
    "                if image_directory.endswith(\".jpg\") == True or image_directory.endswith(\".JPG\") == True:\n",
    "                    image_list.append(convert_image_to_array(image_directory))\n",
    "                    label_list.append(plant_disease_folder)\n",
    "    print(\"[INFO] Image loading completed\")  \n",
    "except Exception as e:\n",
    "    print(f\"Error : {e}\")"
   ]
  },
  {
   "cell_type": "markdown",
   "metadata": {
    "_uuid": "35c4b76d33e0263523e479657580104532f81d6e",
    "id": "6fTzv0y84ZRx"
   },
   "source": [
    "Get Size of Processed Image"
   ]
  },
  {
   "cell_type": "code",
   "execution_count": 7,
   "metadata": {
    "_uuid": "6ee1ad9c422f112ec2862699b5c0f68b8d658123",
    "executionInfo": {
     "elapsed": 1669,
     "status": "ok",
     "timestamp": 1604376302022,
     "user": {
      "displayName": "Vaibhav Wagaskar",
      "photoUrl": "",
      "userId": "18291676089604901220"
     },
     "user_tz": -330
    },
    "id": "O2-fRddh4ZRy"
   },
   "outputs": [],
   "source": [
    "image_size = len(image_list)"
   ]
  },
  {
   "cell_type": "markdown",
   "metadata": {
    "_uuid": "905b41b226f3fd82a88e67821eb42a07f24b31f7",
    "id": "m1mwPUTN4ZR7"
   },
   "source": [
    "Transform Image Labels uisng [Scikit Learn](http://scikit-learn.org/)'s LabelBinarizer"
   ]
  },
  {
   "cell_type": "code",
   "execution_count": 8,
   "metadata": {
    "_uuid": "904ff893fe14f5060dd9e7be2ccf96ec793597e5",
    "executionInfo": {
     "elapsed": 2682,
     "status": "ok",
     "timestamp": 1604376309291,
     "user": {
      "displayName": "Vaibhav Wagaskar",
      "photoUrl": "",
      "userId": "18291676089604901220"
     },
     "user_tz": -330
    },
    "id": "KbEaCulu4ZR8"
   },
   "outputs": [],
   "source": [
    "label_binarizer = LabelBinarizer()\n",
    "image_labels = label_binarizer.fit_transform(label_list)\n",
    "pickle.dump(label_binarizer,open('label_transform.pkl', 'wb'))\n",
    "n_classes = len(label_binarizer.classes_)"
   ]
  },
  {
   "cell_type": "markdown",
   "metadata": {
    "_uuid": "f860c29a1d714f06d25e6a0c5bca94739e5d24cc",
    "id": "6_mRRkrk4ZSE"
   },
   "source": [
    "Print the classes"
   ]
  },
  {
   "cell_type": "code",
   "execution_count": 9,
   "metadata": {
    "_uuid": "0f876397c40c3c8aa09772a92fd60481fc9ba268",
    "colab": {
     "base_uri": "https://localhost:8080/"
    },
    "executionInfo": {
     "elapsed": 1777,
     "status": "ok",
     "timestamp": 1604376315639,
     "user": {
      "displayName": "Vaibhav Wagaskar",
      "photoUrl": "",
      "userId": "18291676089604901220"
     },
     "user_tz": -330
    },
    "id": "arZ9HVde4ZSF",
    "outputId": "b9ac1219-d343-472e-b361-ed3de5ce8056"
   },
   "outputs": [
    {
     "name": "stdout",
     "output_type": "stream",
     "text": [
      "['Pepper__bell___Bacterial_spot' 'Pepper__bell___healthy'\n",
      " 'Potato___Early_blight' 'Potato___Late_blight' 'Potato___healthy'\n",
      " 'Tomato_Bacterial_spot' 'Tomato_Early_blight' 'Tomato_Late_blight'\n",
      " 'Tomato_Leaf_Mold' 'Tomato_Septoria_leaf_spot'\n",
      " 'Tomato_Spider_mites_Two_spotted_spider_mite' 'Tomato__Target_Spot'\n",
      " 'Tomato__Tomato_YellowLeaf__Curl_Virus' 'Tomato__Tomato_mosaic_virus'\n",
      " 'Tomato_healthy']\n"
     ]
    }
   ],
   "source": [
    "print(label_binarizer.classes_)"
   ]
  },
  {
   "cell_type": "code",
   "execution_count": 10,
   "metadata": {
    "_uuid": "6cd9c977b3d164a5570a0c24fdd8624adb9d56b8",
    "executionInfo": {
     "elapsed": 3852,
     "status": "ok",
     "timestamp": 1604376322342,
     "user": {
      "displayName": "Vaibhav Wagaskar",
      "photoUrl": "",
      "userId": "18291676089604901220"
     },
     "user_tz": -330
    },
    "id": "LmPwGkfW4ZSK"
   },
   "outputs": [],
   "source": [
    "np_image_list = np.array(image_list, dtype=np.float16) / 225.0"
   ]
  },
  {
   "cell_type": "code",
   "execution_count": 11,
   "metadata": {
    "_uuid": "9f4829560fdfa218cee18c1cfb2eb9452ef180e5",
    "colab": {
     "base_uri": "https://localhost:8080/"
    },
    "executionInfo": {
     "elapsed": 1505,
     "status": "ok",
     "timestamp": 1604376325268,
     "user": {
      "displayName": "Vaibhav Wagaskar",
      "photoUrl": "",
      "userId": "18291676089604901220"
     },
     "user_tz": -330
    },
    "id": "mVN2zShn4ZSR",
    "outputId": "4c95437a-a775-46ec-f7c7-90c99ae3ccf7"
   },
   "outputs": [
    {
     "name": "stdout",
     "output_type": "stream",
     "text": [
      "[INFO] Spliting data to train, test\n"
     ]
    }
   ],
   "source": [
    "print(\"[INFO] Spliting data to train, test\")\n",
    "x_train, x_test, y_train, y_test = train_test_split(np_image_list, image_labels, test_size=0.2, random_state = 42) "
   ]
  },
  {
   "cell_type": "code",
   "execution_count": 12,
   "metadata": {
    "_uuid": "eec8afa64e676d52c814fc8e096955a60f13b6c5",
    "executionInfo": {
     "elapsed": 1502,
     "status": "ok",
     "timestamp": 1604376329639,
     "user": {
      "displayName": "Vaibhav Wagaskar",
      "photoUrl": "",
      "userId": "18291676089604901220"
     },
     "user_tz": -330
    },
    "id": "_El3JmDX4ZSY"
   },
   "outputs": [],
   "source": [
    "aug = ImageDataGenerator(\n",
    "    rotation_range=25, width_shift_range=0.1,\n",
    "    height_shift_range=0.1, shear_range=0.2, \n",
    "    zoom_range=0.2,horizontal_flip=True, \n",
    "    fill_mode=\"nearest\")"
   ]
  },
  {
   "cell_type": "code",
   "execution_count": 13,
   "metadata": {
    "_cell_guid": "79c7e3d0-c299-4dcb-8224-4455121ee9b0",
    "_uuid": "d629ff2d2480ee46fbb7e2d37f6b5fab8052498a",
    "executionInfo": {
     "elapsed": 7640,
     "status": "ok",
     "timestamp": 1604376339437,
     "user": {
      "displayName": "Vaibhav Wagaskar",
      "photoUrl": "",
      "userId": "18291676089604901220"
     },
     "user_tz": -330
    },
    "id": "7R8cQhAM4ZSf"
   },
   "outputs": [],
   "source": [
    "model = Sequential()\n",
    "inputShape = (height, width, depth)\n",
    "chanDim = -1\n",
    "if K.image_data_format() == \"channels_first\":\n",
    "    inputShape = (depth, height, width)\n",
    "    chanDim = 1\n",
    "model.add(Conv2D(32, (3, 3), padding=\"same\",input_shape=inputShape))\n",
    "model.add(Activation(\"relu\"))\n",
    "model.add(BatchNormalization(axis=chanDim))\n",
    "model.add(MaxPooling2D(pool_size=(3, 3)))\n",
    "model.add(Dropout(0.25))\n",
    "model.add(Conv2D(64, (3, 3), padding=\"same\"))\n",
    "model.add(Activation(\"relu\"))\n",
    "model.add(BatchNormalization(axis=chanDim))\n",
    "model.add(Conv2D(64, (3, 3), padding=\"same\"))\n",
    "model.add(Activation(\"relu\"))\n",
    "model.add(BatchNormalization(axis=chanDim))\n",
    "model.add(Conv2D(64, (3, 3), padding=\"same\"))\n",
    "model.add(Activation(\"relu\"))\n",
    "model.add(BatchNormalization(axis=chanDim))\n",
    "model.add(MaxPooling2D(pool_size=(2, 2)))\n",
    "model.add(Dropout(0.25))\n",
    "model.add(Conv2D(128, (3, 3), padding=\"same\"))\n",
    "model.add(Activation(\"relu\"))\n",
    "model.add(BatchNormalization(axis=chanDim))\n",
    "model.add(Conv2D(128, (3, 3), padding=\"same\"))\n",
    "model.add(Activation(\"relu\"))\n",
    "model.add(BatchNormalization(axis=chanDim))\n",
    "model.add(MaxPooling2D(pool_size=(2, 2)))\n",
    "model.add(Dropout(0.25))\n",
    "model.add(Flatten())\n",
    "model.add(Dense(1024))\n",
    "model.add(Activation(\"relu\"))\n",
    "model.add(BatchNormalization())\n",
    "model.add(Dropout(0.5))\n",
    "model.add(Dense(n_classes))\n",
    "model.add(Activation(\"softmax\"))"
   ]
  },
  {
   "cell_type": "markdown",
   "metadata": {
    "_uuid": "53b13c03e4cea6dc2453a84e254b806ebeed2d99",
    "id": "9cw7MUhD4ZSl"
   },
   "source": [
    "Model Summary"
   ]
  },
  {
   "cell_type": "code",
   "execution_count": 14,
   "metadata": {
    "_uuid": "1e1523a834fbf872940171fbdefb3dcce2b5f31b",
    "colab": {
     "base_uri": "https://localhost:8080/"
    },
    "executionInfo": {
     "elapsed": 1667,
     "status": "ok",
     "timestamp": 1604376348007,
     "user": {
      "displayName": "Vaibhav Wagaskar",
      "photoUrl": "",
      "userId": "18291676089604901220"
     },
     "user_tz": -330
    },
    "id": "8upKzVwR4ZSn",
    "outputId": "0678de1f-fe4a-47e3-c079-8db20f519e0a"
   },
   "outputs": [
    {
     "name": "stdout",
     "output_type": "stream",
     "text": [
      "Model: \"sequential\"\n",
      "_________________________________________________________________\n",
      "Layer (type)                 Output Shape              Param #   \n",
      "=================================================================\n",
      "conv2d (Conv2D)              (None, 100, 100, 32)      896       \n",
      "_________________________________________________________________\n",
      "activation (Activation)      (None, 100, 100, 32)      0         \n",
      "_________________________________________________________________\n",
      "batch_normalization (BatchNo (None, 100, 100, 32)      128       \n",
      "_________________________________________________________________\n",
      "max_pooling2d (MaxPooling2D) (None, 33, 33, 32)        0         \n",
      "_________________________________________________________________\n",
      "dropout (Dropout)            (None, 33, 33, 32)        0         \n",
      "_________________________________________________________________\n",
      "conv2d_1 (Conv2D)            (None, 33, 33, 64)        18496     \n",
      "_________________________________________________________________\n",
      "activation_1 (Activation)    (None, 33, 33, 64)        0         \n",
      "_________________________________________________________________\n",
      "batch_normalization_1 (Batch (None, 33, 33, 64)        256       \n",
      "_________________________________________________________________\n",
      "conv2d_2 (Conv2D)            (None, 33, 33, 64)        36928     \n",
      "_________________________________________________________________\n",
      "activation_2 (Activation)    (None, 33, 33, 64)        0         \n",
      "_________________________________________________________________\n",
      "batch_normalization_2 (Batch (None, 33, 33, 64)        256       \n",
      "_________________________________________________________________\n",
      "conv2d_3 (Conv2D)            (None, 33, 33, 64)        36928     \n",
      "_________________________________________________________________\n",
      "activation_3 (Activation)    (None, 33, 33, 64)        0         \n",
      "_________________________________________________________________\n",
      "batch_normalization_3 (Batch (None, 33, 33, 64)        256       \n",
      "_________________________________________________________________\n",
      "max_pooling2d_1 (MaxPooling2 (None, 16, 16, 64)        0         \n",
      "_________________________________________________________________\n",
      "dropout_1 (Dropout)          (None, 16, 16, 64)        0         \n",
      "_________________________________________________________________\n",
      "conv2d_4 (Conv2D)            (None, 16, 16, 128)       73856     \n",
      "_________________________________________________________________\n",
      "activation_4 (Activation)    (None, 16, 16, 128)       0         \n",
      "_________________________________________________________________\n",
      "batch_normalization_4 (Batch (None, 16, 16, 128)       512       \n",
      "_________________________________________________________________\n",
      "conv2d_5 (Conv2D)            (None, 16, 16, 128)       147584    \n",
      "_________________________________________________________________\n",
      "activation_5 (Activation)    (None, 16, 16, 128)       0         \n",
      "_________________________________________________________________\n",
      "batch_normalization_5 (Batch (None, 16, 16, 128)       512       \n",
      "_________________________________________________________________\n",
      "max_pooling2d_2 (MaxPooling2 (None, 8, 8, 128)         0         \n",
      "_________________________________________________________________\n",
      "dropout_2 (Dropout)          (None, 8, 8, 128)         0         \n",
      "_________________________________________________________________\n",
      "flatten (Flatten)            (None, 8192)              0         \n",
      "_________________________________________________________________\n",
      "dense (Dense)                (None, 1024)              8389632   \n",
      "_________________________________________________________________\n",
      "activation_6 (Activation)    (None, 1024)              0         \n",
      "_________________________________________________________________\n",
      "batch_normalization_6 (Batch (None, 1024)              4096      \n",
      "_________________________________________________________________\n",
      "dropout_3 (Dropout)          (None, 1024)              0         \n",
      "_________________________________________________________________\n",
      "dense_1 (Dense)              (None, 15)                15375     \n",
      "_________________________________________________________________\n",
      "activation_7 (Activation)    (None, 15)                0         \n",
      "=================================================================\n",
      "Total params: 8,725,711\n",
      "Trainable params: 8,722,703\n",
      "Non-trainable params: 3,008\n",
      "_________________________________________________________________\n"
     ]
    }
   ],
   "source": [
    "model.summary()"
   ]
  },
  {
   "cell_type": "code",
   "execution_count": 15,
   "metadata": {
    "_uuid": "b21dffee32c325136b4ea23ac511049723f34a24",
    "colab": {
     "base_uri": "https://localhost:8080/"
    },
    "executionInfo": {
     "elapsed": 1656,
     "status": "ok",
     "timestamp": 1604376358564,
     "user": {
      "displayName": "Vaibhav Wagaskar",
      "photoUrl": "",
      "userId": "18291676089604901220"
     },
     "user_tz": -330
    },
    "id": "OOVp2r0i4ZSt",
    "outputId": "5ab06f7b-15a7-4fcd-854d-31c99c79e7b5"
   },
   "outputs": [
    {
     "name": "stdout",
     "output_type": "stream",
     "text": [
      "[INFO] training network...\n"
     ]
    }
   ],
   "source": [
    "#Compiling Model\n",
    "opt = Adam(lr=INIT_LR, decay=INIT_LR / EPOCHS)\n",
    "# distribution\n",
    "model.compile(loss=\"binary_crossentropy\", optimizer=opt,metrics=[\"accuracy\"])\n",
    "# train the network\n",
    "print(\"[INFO] training network...\")"
   ]
  },
  {
   "cell_type": "code",
   "execution_count": 19,
   "metadata": {
    "_uuid": "1a13efc5ded339fc3c0d9e61041e8ca555362db0",
    "colab": {
     "base_uri": "https://localhost:8080/"
    },
    "executionInfo": {
     "elapsed": 237419,
     "status": "ok",
     "timestamp": 1604376929631,
     "user": {
      "displayName": "Vaibhav Wagaskar",
      "photoUrl": "",
      "userId": "18291676089604901220"
     },
     "user_tz": -330
    },
    "id": "dMxT_lf14ZSz",
    "outputId": "a52bba5d-160d-4d9b-f1cf-d3d30cbaad31"
   },
   "outputs": [
    {
     "name": "stdout",
     "output_type": "stream",
     "text": [
      "Epoch 1/35\n",
      "91/91 [==============================] - 7s 74ms/step - loss: 0.0507 - accuracy: 0.8543 - val_loss: 0.2492 - val_accuracy: 0.5650\n",
      "Epoch 2/35\n",
      "91/91 [==============================] - 7s 72ms/step - loss: 0.0428 - accuracy: 0.8785 - val_loss: 0.2190 - val_accuracy: 0.6306\n",
      "Epoch 3/35\n",
      "91/91 [==============================] - 7s 72ms/step - loss: 0.0375 - accuracy: 0.8896 - val_loss: 0.1460 - val_accuracy: 0.6936\n",
      "Epoch 4/35\n",
      "91/91 [==============================] - 7s 72ms/step - loss: 0.0358 - accuracy: 0.8944 - val_loss: 0.2195 - val_accuracy: 0.6580\n",
      "Epoch 5/35\n",
      "91/91 [==============================] - 7s 72ms/step - loss: 0.0348 - accuracy: 0.9020 - val_loss: 0.3374 - val_accuracy: 0.5609\n",
      "Epoch 6/35\n",
      "91/91 [==============================] - 7s 72ms/step - loss: 0.0392 - accuracy: 0.8882 - val_loss: 0.2017 - val_accuracy: 0.6129\n",
      "Epoch 7/35\n",
      "91/91 [==============================] - 7s 72ms/step - loss: 0.0348 - accuracy: 0.9024 - val_loss: 0.1319 - val_accuracy: 0.7415\n",
      "Epoch 8/35\n",
      "91/91 [==============================] - 7s 72ms/step - loss: 0.0357 - accuracy: 0.8986 - val_loss: 0.3076 - val_accuracy: 0.5404\n",
      "Epoch 9/35\n",
      "91/91 [==============================] - 7s 73ms/step - loss: 0.0442 - accuracy: 0.8744 - val_loss: 0.1168 - val_accuracy: 0.7524\n",
      "Epoch 10/35\n",
      "91/91 [==============================] - 7s 73ms/step - loss: 0.0401 - accuracy: 0.8872 - val_loss: 0.6525 - val_accuracy: 0.3694\n",
      "Epoch 11/35\n",
      "91/91 [==============================] - 7s 73ms/step - loss: 0.0356 - accuracy: 0.9024 - val_loss: 0.5158 - val_accuracy: 0.4104\n",
      "Epoch 12/35\n",
      "91/91 [==============================] - 7s 72ms/step - loss: 0.0350 - accuracy: 0.8955 - val_loss: 0.1278 - val_accuracy: 0.7579\n",
      "Epoch 13/35\n",
      "91/91 [==============================] - 7s 72ms/step - loss: 0.0370 - accuracy: 0.8906 - val_loss: 0.1135 - val_accuracy: 0.7661\n",
      "Epoch 14/35\n",
      "91/91 [==============================] - 7s 72ms/step - loss: 0.0310 - accuracy: 0.9135 - val_loss: 0.5152 - val_accuracy: 0.4624\n",
      "Epoch 15/35\n",
      "91/91 [==============================] - 7s 72ms/step - loss: 0.0320 - accuracy: 0.9083 - val_loss: 0.0915 - val_accuracy: 0.8016\n",
      "Epoch 16/35\n",
      "91/91 [==============================] - 7s 73ms/step - loss: 0.0234 - accuracy: 0.9356 - val_loss: 0.2884 - val_accuracy: 0.5882\n",
      "Epoch 17/35\n",
      "91/91 [==============================] - 7s 73ms/step - loss: 0.0309 - accuracy: 0.9117 - val_loss: 0.4177 - val_accuracy: 0.5376\n",
      "Epoch 18/35\n",
      "91/91 [==============================] - 7s 73ms/step - loss: 0.0299 - accuracy: 0.9148 - val_loss: 0.2206 - val_accuracy: 0.6115\n",
      "Epoch 19/35\n",
      "91/91 [==============================] - 7s 73ms/step - loss: 0.0298 - accuracy: 0.9214 - val_loss: 0.2439 - val_accuracy: 0.6676\n",
      "Epoch 20/35\n",
      "91/91 [==============================] - 7s 73ms/step - loss: 0.0258 - accuracy: 0.9280 - val_loss: 0.0598 - val_accuracy: 0.8536\n",
      "Epoch 21/35\n",
      "91/91 [==============================] - 7s 74ms/step - loss: 0.0268 - accuracy: 0.9228 - val_loss: 0.1594 - val_accuracy: 0.7756\n",
      "Epoch 22/35\n",
      "91/91 [==============================] - 7s 74ms/step - loss: 0.0251 - accuracy: 0.9297 - val_loss: 0.1333 - val_accuracy: 0.7415\n",
      "Epoch 23/35\n",
      "91/91 [==============================] - 7s 73ms/step - loss: 0.0335 - accuracy: 0.9017 - val_loss: 0.3726 - val_accuracy: 0.5198\n",
      "Epoch 24/35\n",
      "91/91 [==============================] - 7s 73ms/step - loss: 0.0266 - accuracy: 0.9266 - val_loss: 0.2043 - val_accuracy: 0.6922\n",
      "Epoch 25/35\n",
      "91/91 [==============================] - 7s 73ms/step - loss: 0.0266 - accuracy: 0.9304 - val_loss: 0.5063 - val_accuracy: 0.5048\n",
      "Epoch 26/35\n",
      "91/91 [==============================] - 7s 73ms/step - loss: 0.0223 - accuracy: 0.9360 - val_loss: 0.1211 - val_accuracy: 0.7975\n",
      "Epoch 27/35\n",
      "91/91 [==============================] - 7s 74ms/step - loss: 0.0231 - accuracy: 0.9339 - val_loss: 0.1231 - val_accuracy: 0.7483\n",
      "Epoch 28/35\n",
      "91/91 [==============================] - 7s 73ms/step - loss: 0.0235 - accuracy: 0.9380 - val_loss: 0.2597 - val_accuracy: 0.6375\n",
      "Epoch 29/35\n",
      "91/91 [==============================] - 7s 73ms/step - loss: 0.0222 - accuracy: 0.9391 - val_loss: 0.0501 - val_accuracy: 0.8782\n",
      "Epoch 30/35\n",
      "91/91 [==============================] - 7s 73ms/step - loss: 0.0235 - accuracy: 0.9322 - val_loss: 0.7206 - val_accuracy: 0.3242\n",
      "Epoch 31/35\n",
      "91/91 [==============================] - 7s 73ms/step - loss: 0.0271 - accuracy: 0.9259 - val_loss: 0.1264 - val_accuracy: 0.7469\n",
      "Epoch 32/35\n",
      "91/91 [==============================] - 7s 74ms/step - loss: 0.0260 - accuracy: 0.9283 - val_loss: 0.0854 - val_accuracy: 0.8085\n",
      "Epoch 33/35\n",
      "91/91 [==============================] - 7s 74ms/step - loss: 0.0204 - accuracy: 0.9453 - val_loss: 0.0606 - val_accuracy: 0.8741\n",
      "Epoch 34/35\n",
      "91/91 [==============================] - 7s 74ms/step - loss: 0.0255 - accuracy: 0.9290 - val_loss: 0.4432 - val_accuracy: 0.4651\n",
      "Epoch 35/35\n",
      "91/91 [==============================] - 7s 73ms/step - loss: 0.0238 - accuracy: 0.9311 - val_loss: 0.0950 - val_accuracy: 0.8098\n"
     ]
    }
   ],
   "source": [
    "#Fitting Model\n",
    "history = model.fit_generator(\n",
    "    aug.flow(x_train, y_train, batch_size=BS),\n",
    "    validation_data=(x_test, y_test),\n",
    "    steps_per_epoch=len(x_train) // BS,\n",
    "    epochs=EPOCHS, verbose=1\n",
    "    )"
   ]
  },
  {
   "cell_type": "markdown",
   "metadata": {
    "_uuid": "9ca1a4489bd624c69a13cd37c0c2306ac8de55c2",
    "id": "qmEqqjng4ZTC"
   },
   "source": [
    "Model Accuracy"
   ]
  },
  {
   "cell_type": "code",
   "execution_count": 20,
   "metadata": {
    "_uuid": "bb44f3d0b7e2862bc7d1a032612ebfd48212c1fe",
    "colab": {
     "base_uri": "https://localhost:8080/"
    },
    "executionInfo": {
     "elapsed": 1720,
     "status": "ok",
     "timestamp": 1604376938873,
     "user": {
      "displayName": "Vaibhav Wagaskar",
      "photoUrl": "",
      "userId": "18291676089604901220"
     },
     "user_tz": -330
    },
    "id": "mP34m5l34ZTD",
    "outputId": "59236a5a-a552-4420-b7d1-bbf5d9fd5659"
   },
   "outputs": [
    {
     "name": "stdout",
     "output_type": "stream",
     "text": [
      "[INFO] Calculating model accuracy\n",
      "23/23 [==============================] - 0s 6ms/step - loss: 0.0950 - accuracy: 0.8098\n",
      "Test Accuracy: 80.9849500656128\n"
     ]
    }
   ],
   "source": [
    "print(\"[INFO] Calculating model accuracy\")\n",
    "scores = model.evaluate(x_test, y_test)\n",
    "print(f\"Test Accuracy: {scores[1]*100}\")"
   ]
  },
  {
   "cell_type": "code",
   "execution_count": 21,
   "metadata": {
    "executionInfo": {
     "elapsed": 2007,
     "status": "ok",
     "timestamp": 1604376952167,
     "user": {
      "displayName": "Vaibhav Wagaskar",
      "photoUrl": "",
      "userId": "18291676089604901220"
     },
     "user_tz": -330
    },
    "id": "bHEC2HyWLnHG"
   },
   "outputs": [],
   "source": [
    "# Save the model using TensorFlow SavedModel format\n",
    "model.save('my_model.h5')"
   ]
  },
  {
   "cell_type": "code",
   "execution_count": 22,
   "metadata": {
    "colab": {
     "base_uri": "https://localhost:8080/"
    },
    "executionInfo": {
     "elapsed": 2586,
     "status": "ok",
     "timestamp": 1604376976139,
     "user": {
      "displayName": "Vaibhav Wagaskar",
      "photoUrl": "",
      "userId": "18291676089604901220"
     },
     "user_tz": -330
    },
    "id": "Z0F35n2shbj4",
    "outputId": "a652149d-f458-4e85-e7de-6dac32adb0fe"
   },
   "outputs": [
    {
     "name": "stdout",
     "output_type": "stream",
     "text": [
      "92/92 [==============================] - 0s 5ms/step - loss: 0.0612 - accuracy: 0.8552\n",
      "Test Accuracy: 85.51865816116333\n"
     ]
    }
   ],
   "source": [
    "scores = model.evaluate(x_train, y_train)\n",
    "print(f\"Test Accuracy: {scores[1]*100}\")"
   ]
  },
  {
   "cell_type": "code",
   "execution_count": null,
   "metadata": {
    "id": "Z7FrhSXUjlVz"
   },
   "outputs": [],
   "source": []
  }
 ],
 "metadata": {
  "accelerator": "GPU",
  "colab": {
   "collapsed_sections": [],
   "name": "plant-disease-detection-Training.ipynb",
   "provenance": []
  },
  "kernelspec": {
   "display_name": "Python 3",
   "language": "python",
   "name": "python3"
  },
  "language_info": {
   "codemirror_mode": {
    "name": "ipython",
    "version": 3
   },
   "file_extension": ".py",
   "mimetype": "text/x-python",
   "name": "python",
   "nbconvert_exporter": "python",
   "pygments_lexer": "ipython3",
   "version": "3.8.5"
  }
 },
 "nbformat": 4,
 "nbformat_minor": 1
}
